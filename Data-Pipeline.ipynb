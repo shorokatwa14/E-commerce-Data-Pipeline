{
  "cells": [
    {
      "cell_type": "markdown",
      "metadata": {
        "id": "jNsZAOPVb8d5"
      },
      "source": [
        "# Real-Time E-commerce Data Pipeline with Spark ETL\n",
        "\n",
        "## Project Overview\n",
        "\n",
        "In this project, you will design and implement an ETL (Extract, Transform, Load) pipeline for a hypothetical e-commerce platform named **ShopEase**. The platform generates massive amounts of data daily, including user interactions, transactions, and inventory updates. Your task is to process this data using Apache Spark to derive meaningful insights and support real-time analytics."
      ]
    },
    {
      "cell_type": "markdown",
      "metadata": {
        "id": "IuztzT7OcDPv"
      },
      "source": [
        "## Project Requirements\n",
        "\n",
        "You are required to perform the following tasks using Apache Spark (preferably with PySpark or Scala):\n",
        "\n",
        "### 1. Data Ingestion\n",
        "- **Batch Data:**\n",
        "  - Load historical data from large CSV and JSON files stored in your local file system.\n",
        "- **Real-Time Data:**\n",
        "  - Simulate and ingest streaming data from a Kafka topic representing live user activity logs.\n",
        "\n",
        "### 2. Data Processing and Transformation\n",
        "- **Using RDDs:**\n",
        "  - Perform a transformation to filter out any corrupted or incomplete records from the transaction data.\n",
        "  - Implement a custom transformation to anonymize user IDs for privacy compliance.\n",
        "- **Using DataFrames:**\n",
        "  - Clean and standardize inventory data (e.g., handling missing values, normalizing text).\n",
        "  - Join user activity logs with transaction records to analyze user behavior leading to purchases.\n",
        "- **Using Spark SQL:**\n",
        "  - Create temporary views and execute SQL queries to compute:\n",
        "    - Top 10 most purchased products in the last month.\n",
        "    - Monthly revenue trends.\n",
        "    - Inventory turnover rates.\n",
        "\n",
        "### 3. Real-Time Streaming Processing (Optional but Recommended)\n",
        "- Set up a Spark Streaming job to process incoming user activity logs.\n",
        "- Compute real-time metrics such as:\n",
        "  - Active users per minute.\n",
        "  - Real-time conversion rates.\n",
        "  - Detect and alert on unusual spikes in specific user activities.\n",
        "\n",
        "### 4. Data Storage\n",
        "- Store the transformed data into appropriate storage systems:\n",
        "  - Use Parquet format for batch-processed data in a local data lake.\n",
        "  - Use an in-memory data store like Redis or a database like PostgreSQL for real-time metrics.\n",
        "\n",
        "### 5. Performance Optimization\n",
        "- Optimize Spark jobs for better performance by:\n",
        "  - Caching intermediate DataFrames where necessary.\n",
        "  - Tuning Spark configurations (e.g., partition sizes, executor memory).\n",
        "  - Using appropriate join strategies.\n",
        "\n",
        "### 6. Documentation and Reporting\n",
        "- Document the ETL pipeline architecture.\n",
        "- Provide sample dashboards or reports (using Spark's built-in visualization) showcasing the insights derived.\n"
      ]
    },
    {
      "cell_type": "markdown",
      "metadata": {
        "id": "XAwYBGMNcGO0"
      },
      "source": [
        "## Questions & Requirements\n",
        "\n",
        "### 1. Data Ingestion\n",
        "- **Q1:** How did you ingest the batch and real-time data? Provide code snippets demonstrating the loading of data using RDDs and DataFrames.\n",
        "\n",
        "### 2. Data Cleaning and Transformation\n",
        "- **Q2:** Describe the transformations applied to the transaction data using RDDs. How did you ensure data quality and privacy?\n",
        "\n",
        "### 3. DataFrame Operations\n",
        "- **Q3:** How did you clean and standardize the inventory data using DataFrames? Provide examples of handling missing values and normalizing text fields.\n",
        "\n",
        "### 4. Spark SQL Queries\n",
        "- **Q4:** Present the Spark SQL queries used to calculate the top 10 most purchased products, monthly revenue trends, and inventory turnover rates.\n",
        "\n",
        "### 5. Real-Time Processing\n",
        "- **Q5:** If implemented, explain how the real-time streaming was set up. What metrics were computed in real-time, and how were they stored/displayed?\n",
        "\n",
        "### 6. Performance Optimization\n",
        "- **Q6:** What strategies did you employ to optimize the performance of your Spark jobs? Provide examples of configuration settings or code optimizations.\n",
        "\n",
        "### 7. Reporting\n",
        "- **Q7:** Show sample outputs or dashboards that visualize the insights derived from the ETL pipeline.\n"
      ]
    },
    {
      "cell_type": "code",
      "execution_count": 1,
      "metadata": {
        "colab": {
          "base_uri": "https://localhost:8080/"
        },
        "id": "apAl8gfxbcae",
        "outputId": "f1348cc1-da21-4cda-ead0-03af6019523c"
      },
      "outputs": [
        {
          "name": "stdout",
          "output_type": "stream",
          "text": [
            "Requirement already satisfied: pyspark in /usr/local/lib/python3.10/dist-packages (3.5.2)\n",
            "Requirement already satisfied: py4j==0.10.9.7 in /usr/local/lib/python3.10/dist-packages (from pyspark) (0.10.9.7)\n"
          ]
        }
      ],
      "source": [
        "! pip install pyspark"
      ]
    },
    {
      "cell_type": "code",
      "execution_count": 2,
      "metadata": {
        "colab": {
          "base_uri": "https://localhost:8080/"
        },
        "id": "I0-SeCnUbt75",
        "outputId": "5c6b6daf-f2b5-4c10-c786-5267544192ec"
      },
      "outputs": [
        {
          "name": "stdout",
          "output_type": "stream",
          "text": [
            "+-------+----------+------+--------------------+-----------+\n",
            "|user_id|product_id|rating|              review|review_date|\n",
            "+-------+----------+------+--------------------+-----------+\n",
            "|   9320|      1971|     4|Review text for p...| 2023-01-11|\n",
            "|  64245|      3664|     4|Review text for p...| 2023-01-23|\n",
            "|  37341|      7419|     4|Review text for p...| 2023-08-14|\n",
            "|  43430|      6536|     2|Review text for p...| 2023-12-29|\n",
            "|   6848|      3038|     1|Review text for p...| 2023-08-03|\n",
            "+-------+----------+------+--------------------+-----------+\n",
            "only showing top 5 rows\n",
            "\n",
            "+--------------+-------+----------+--------+------+----------------+\n",
            "|transaction_id|user_id|product_id|quantity|amount|transaction_date|\n",
            "+--------------+-------+----------+--------+------+----------------+\n",
            "|             1|   5388|      9152|       9|305.67|      2023-01-07|\n",
            "|             2|  31656|      5763|       1|184.31|      2023-05-16|\n",
            "|             3|  36725|      4733|       4|  7.66|      2023-01-20|\n",
            "|             4|  22713|      4207|       1|411.73|      2023-04-19|\n",
            "|             5|  74067|      1914|       5|499.21|      2023-08-17|\n",
            "+--------------+-------+----------+--------+------+----------------+\n",
            "only showing top 5 rows\n",
            "\n",
            "+------+----------+------------+-----------+\n",
            "| price|product_id|product_name|stock_level|\n",
            "+------+----------+------------+-----------+\n",
            "| 91.89|         1|   Product_1|         61|\n",
            "|  9.75|         2|   Product_2|        553|\n",
            "|182.89|         3|   Product_3|        328|\n",
            "|148.38|         4|   Product_4|        347|\n",
            "| 78.17|         5|   Product_5|        180|\n",
            "+------+----------+------------+-----------+\n",
            "only showing top 5 rows\n",
            "\n"
          ]
        }
      ],
      "source": [
        "from pyspark.sql import SparkSession\n",
        "\n",
        "# Step 1: Create a SparkSession\n",
        "spark = SparkSession.builder \\\n",
        "    .appName(\"Batch Data Ingestion\") \\\n",
        "    .getOrCreate()\n",
        "\n",
        "# Step 2: Define paths to the CSV and JSON files\n",
        "csv_file_path1 = \"/content/large_customer_feedback.csv\"\n",
        "csv_file_path2 = \"/content/large_transactions.csv\"\n",
        "json_file_path = \"/content/large_inventory_reformatted.json\"\n",
        "\n",
        "# Step 3: Load the datasets into DataFrames\n",
        "# Loading customer feedback CSV\n",
        "feedback_df = spark.read.csv(csv_file_path1, header=True, inferSchema=True)\n",
        "\n",
        "# Loading transactions CSV\n",
        "transactions_df = spark.read.csv(csv_file_path2, header=True, inferSchema=True)\n",
        "\n",
        "# Loading inventory JSON\n",
        "inventory_df = spark.read.json(json_file_path)\n",
        "\n",
        "# Step 4: Show sample data from the DataFrames\n",
        "feedback_df.show(5)\n",
        "transactions_df.show(5)\n",
        "inventory_df.show(5)\n"
      ]
    },
    {
      "cell_type": "code",
      "execution_count": 3,
      "metadata": {
        "colab": {
          "base_uri": "https://localhost:8080/"
        },
        "id": "80lqQDj8c5dn",
        "outputId": "69782147-f307-4eea-d7b6-f71b70a821ef"
      },
      "outputs": [
        {
          "name": "stdout",
          "output_type": "stream",
          "text": [
            "+--------------+--------------------+----------+--------+------+----------------+\n",
            "|transaction_id|             user_id|product_id|quantity|amount|transaction_date|\n",
            "+--------------+--------------------+----------+--------+------+----------------+\n",
            "|             1|b797d397acb6b79e3...|      9152|       9|305.67|      2023-01-07|\n",
            "|             2|3911f43de537d6765...|      5763|       1|184.31|      2023-05-16|\n",
            "|             3|a0127a90205f9ca56...|      4733|       4|  7.66|      2023-01-20|\n",
            "|             4|3ec95a5c41362c498...|      4207|       1|411.73|      2023-04-19|\n",
            "|             5|90ee0ca050e4b8892...|      1914|       5|499.21|      2023-08-17|\n",
            "+--------------+--------------------+----------+--------+------+----------------+\n",
            "only showing top 5 rows\n",
            "\n"
          ]
        }
      ],
      "source": [
        "import hashlib\n",
        "\n",
        "# Convert transactions DataFrame to RDD\n",
        "transactions_rdd = transactions_df.rdd\n",
        "\n",
        "# Step 3: Filter out corrupted records (e.g., missing transaction_id or amount)\n",
        "cleaned_rdd = transactions_rdd.filter(lambda row: row['transaction_id'] is not None and row['amount'] is not None)\n",
        "\n",
        "# Step 4: Write a function to anonymize user IDs using Hashing\n",
        "def anonymize(record):\n",
        "    user_id = record['user_id']\n",
        "    hashed_user_id = hashlib.sha256(str(user_id).encode()).hexdigest()  # Hash the user_id\n",
        "    return (record['transaction_id'], hashed_user_id, record['product_id'], record['quantity'], record['amount'], record['transaction_date'])\n",
        "\n",
        "# Apply anonymization\n",
        "anonymized_rdd = cleaned_rdd.map(anonymize)\n",
        "\n",
        "# Step 5: Convert back to DataFrame\n",
        "cleaned_transactions_df = anonymized_rdd.toDF([\"transaction_id\", \"user_id\", \"product_id\", \"quantity\", \"amount\", \"transaction_date\"])\n",
        "\n",
        "# Display cleaned and anonymized data\n",
        "cleaned_transactions_df.show(5)"
      ]
    },
    {
      "cell_type": "code",
      "execution_count": 4,
      "metadata": {
        "colab": {
          "base_uri": "https://localhost:8080/"
        },
        "id": "iws-q7clc5i9",
        "outputId": "daba0093-f692-4b3a-f97a-f579907bbdf1"
      },
      "outputs": [
        {
          "name": "stdout",
          "output_type": "stream",
          "text": [
            "+------+----------+------------+-----------+\n",
            "| price|product_id|product_name|stock_level|\n",
            "+------+----------+------------+-----------+\n",
            "| 91.89|         1|   product_1|         61|\n",
            "|  9.75|         2|   product_2|        553|\n",
            "|182.89|         3|   product_3|        328|\n",
            "|148.38|         4|   product_4|        347|\n",
            "| 78.17|         5|   product_5|        180|\n",
            "+------+----------+------------+-----------+\n",
            "only showing top 5 rows\n",
            "\n"
          ]
        }
      ],
      "source": [
        "from pyspark.sql.functions import lower\n",
        "\n",
        "# Clean the inventory data (e.g., handle missing values, normalize text)\n",
        "clean_inventory_df = inventory_df.na.fill({'stock_level': 0})  # Fill missing stock levels with 0\n",
        "\n",
        "# Normalize product names (convert to lower case)\n",
        "clean_inventory_df = clean_inventory_df.withColumn(\"product_name\", lower(inventory_df['product_name']))\n",
        "\n",
        "# Display the cleaned inventory data\n",
        "clean_inventory_df.show(5)"
      ]
    },
    {
      "cell_type": "code",
      "execution_count": 5,
      "metadata": {
        "colab": {
          "base_uri": "https://localhost:8080/"
        },
        "id": "kM8Opc3xc5lw",
        "outputId": "b5e1ba05-bc9a-4d5f-bf7d-6ce616b5303d"
      },
      "outputs": [
        {
          "name": "stdout",
          "output_type": "stream",
          "text": [
            "+------+----------+------------+-----------+\n",
            "| price|product_id|product_name|stock_level|\n",
            "+------+----------+------------+-----------+\n",
            "| 91.89|         1|   product_1|         61|\n",
            "|  9.75|         2|   product_2|        553|\n",
            "|182.89|         3|   product_3|        328|\n",
            "|148.38|         4|   product_4|        347|\n",
            "| 78.17|         5|   product_5|        180|\n",
            "+------+----------+------------+-----------+\n",
            "only showing top 5 rows\n",
            "\n",
            "+----------+--------------+-------+--------+------+----------------+-----+------------+-----------+\n",
            "|product_id|transaction_id|user_id|quantity|amount|transaction_date|price|product_name|stock_level|\n",
            "+----------+--------------+-------+--------+------+----------------+-----+------------+-----------+\n",
            "|      9152|             1|   5388|       9|305.67|      2023-01-07|238.7|product_9152|        871|\n",
            "|      5763|             2|  31656|       1|184.31|      2023-05-16|91.52|product_5763|        252|\n",
            "|      4733|             3|  36725|       4|  7.66|      2023-01-20|33.22|product_4733|        235|\n",
            "|      4207|             4|  22713|       1|411.73|      2023-04-19| 6.67|product_4207|        928|\n",
            "|      1914|             5|  74067|       5|499.21|      2023-08-17|29.71|product_1914|          4|\n",
            "+----------+--------------+-------+--------+------+----------------+-----+------------+-----------+\n",
            "only showing top 5 rows\n",
            "\n"
          ]
        }
      ],
      "source": [
        "from pyspark.sql.functions import col, lower, trim\n",
        "\n",
        "# Step 1: Clean inventory data by handling missing values and normalizing text\n",
        "cleaned_inventory_df = inventory_df.dropna(subset=[\"stock_level\"]) \\\n",
        "                                   .withColumn(\"product_name\", lower(trim(col(\"product_name\"))))\n",
        "\n",
        "# Display cleaned inventory data\n",
        "cleaned_inventory_df.show(5)\n",
        "\n",
        "\n",
        "# Step 2: Perform a join operation to combine data\n",
        "# Join on 'product_id'\n",
        "joined_df = transactions_df.join(cleaned_inventory_df, on=\"product_id\", how=\"inner\")\n",
        "\n",
        "# Display the joined DataFrame\n",
        "joined_df.show(5)"
      ]
    },
    {
      "cell_type": "code",
      "execution_count": 6,
      "metadata": {
        "id": "AoSCAJa4G9WS"
      },
      "outputs": [],
      "source": [
        "cleaned_inventory_df_copy = cleaned_inventory_df"
      ]
    },
    {
      "cell_type": "code",
      "execution_count": 7,
      "metadata": {
        "colab": {
          "base_uri": "https://localhost:8080/"
        },
        "id": "ffdxNZKY_N6h",
        "outputId": "b7a734d7-b3c6-4c56-8530-17cb25e78170"
      },
      "outputs": [
        {
          "name": "stdout",
          "output_type": "stream",
          "text": [
            "+------+----------+------------+-----------+-----------+\n",
            "|price |product_id|product_name|stock_level|category   |\n",
            "+------+----------+------------+-----------+-----------+\n",
            "|91.89 |1         |product_1   |61         |Food       |\n",
            "|9.75  |2         |product_2   |553        |Electronics|\n",
            "|182.89|3         |product_3   |328        |Clothing   |\n",
            "|148.38|4         |product_4   |347        |Food       |\n",
            "|78.17 |5         |product_5   |180        |Toys       |\n",
            "|61.26 |6         |product_6   |741        |Books      |\n",
            "|415.13|7         |product_7   |987        |Clothing   |\n",
            "|61.42 |8         |product_8   |467        |Toys       |\n",
            "|60.98 |9         |product_9   |975        |Food       |\n",
            "|201.41|10        |product_10  |724        |Books      |\n",
            "|401.51|11        |product_11  |601        |Clothing   |\n",
            "|407.02|12        |product_12  |914        |Toys       |\n",
            "|146.99|13        |product_13  |181        |Electronics|\n",
            "|196.18|14        |product_14  |943        |Clothing   |\n",
            "|161.75|15        |product_15  |873        |Clothing   |\n",
            "|433.02|16        |product_16  |630        |Electronics|\n",
            "|190.49|17        |product_17  |120        |Books      |\n",
            "|483.77|18        |product_18  |907        |Food       |\n",
            "|453.8 |19        |product_19  |481        |Books      |\n",
            "|460.37|20        |product_20  |627        |Clothing   |\n",
            "+------+----------+------------+-----------+-----------+\n",
            "only showing top 20 rows\n",
            "\n"
          ]
        }
      ],
      "source": [
        "from pyspark.sql.functions import udf, col\n",
        "from pyspark.sql.types import StringType\n",
        "import random\n",
        "\n",
        "# Step 1: Define a list of random categories\n",
        "categories_list = ['Electronics', 'Clothing', 'Toys', 'Books', 'Food']\n",
        "\n",
        "# Step 2: Create a UDF to return a random category from the list\n",
        "def get_random_category():\n",
        "    return random.choice(categories_list)\n",
        "\n",
        "# Register the UDF\n",
        "random_category_udf = udf(get_random_category, StringType())\n",
        "\n",
        "# Step 3: Add the 'categories' column with random values to the DataFrame\n",
        "cleaned_inventory_df_copy = cleaned_inventory_df_copy.withColumn('category', random_category_udf())\n",
        "\n",
        "# Step 4: Verify the changes\n",
        "cleaned_inventory_df_copy.show(truncate=False)\n"
      ]
    },
    {
      "cell_type": "code",
      "execution_count": 8,
      "metadata": {
        "colab": {
          "base_uri": "https://localhost:8080/"
        },
        "id": "JnDOKQUkc5pn",
        "outputId": "4e8fbb63-34a7-41e6-9fe2-aa8e8bcb83af"
      },
      "outputs": [
        {
          "name": "stdout",
          "output_type": "stream",
          "text": [
            "+---------+----------+\n",
            "|last_year|last_month|\n",
            "+---------+----------+\n",
            "|     2023|        12|\n",
            "+---------+----------+\n",
            "\n"
          ]
        }
      ],
      "source": [
        "transactions_df.createOrReplaceTempView(\"transactions\")\n",
        "\n",
        "# Query 1: Find the maximum transaction date\n",
        "max_date_df = spark.sql(\"\"\"\n",
        "    SELECT MAX(transaction_date) AS last_date\n",
        "    FROM transactions\n",
        "\"\"\")\n",
        "\n",
        "# Extract the maximum date\n",
        "max_date_row = max_date_df.collect()[0]\n",
        "last_date = max_date_row['last_date']\n",
        "\n",
        "# Query 2: Extract year and month from the last date\n",
        "year_month_df = spark.sql(f\"\"\"\n",
        "    SELECT YEAR('{last_date}') AS last_year, MONTH('{last_date}') AS last_month\n",
        "\"\"\")\n",
        "\n",
        "# Show the year and month of the last date\n",
        "year_month_df.show()\n"
      ]
    },
    {
      "cell_type": "code",
      "execution_count": 9,
      "metadata": {
        "colab": {
          "base_uri": "https://localhost:8080/"
        },
        "id": "vbIEkRCkc5tM",
        "outputId": "4744ab19-0397-4cbf-d871-30d19b470610"
      },
      "outputs": [
        {
          "name": "stdout",
          "output_type": "stream",
          "text": [
            "+----------+--------------+\n",
            "|product_id|total_quantity|\n",
            "+----------+--------------+\n",
            "|       499|            96|\n",
            "|      9050|            78|\n",
            "|      4677|            71|\n",
            "|      9162|            70|\n",
            "|       629|            69|\n",
            "|      9906|            67|\n",
            "|      8113|            66|\n",
            "|      5912|            66|\n",
            "|      8220|            64|\n",
            "|      8827|            64|\n",
            "+----------+--------------+\n",
            "\n"
          ]
        }
      ],
      "source": [
        "cleaned_transactions_df.createOrReplaceTempView(\"transactions\")\n",
        "cleaned_inventory_df.createOrReplaceTempView(\"inventory\")\n",
        "joined_df.createOrReplaceTempView(\"joined_data\")\n",
        "\n",
        "# Define the year and month\n",
        "last_year = 2023\n",
        "last_month = 12\n",
        "\n",
        "# Query: Top 10 most purchased products in the last month\n",
        "top_products_query = f\"\"\"\n",
        "    SELECT product_id, SUM(quantity) AS total_quantity\n",
        "    FROM transactions\n",
        "    WHERE YEAR(transaction_date) = {last_year}\n",
        "    AND MONTH(transaction_date) = {last_month}\n",
        "    GROUP BY product_id\n",
        "    ORDER BY total_quantity DESC\n",
        "    LIMIT 10\n",
        "\"\"\"\n",
        "\n",
        "# Execute the query and get the DataFrame\n",
        "top_products_df = spark.sql(top_products_query)\n",
        "\n",
        "# Display the results\n",
        "top_products_df.show()"
      ]
    },
    {
      "cell_type": "code",
      "execution_count": 10,
      "metadata": {
        "colab": {
          "base_uri": "https://localhost:8080/"
        },
        "id": "WxLXU5-pc5xO",
        "outputId": "4529d92c-3608-49c2-9d95-ea5b4d86be2e"
      },
      "outputs": [
        {
          "name": "stdout",
          "output_type": "stream",
          "text": [
            "+-----+----+-----------------+\n",
            "|month|year|    total_revenue|\n",
            "+-----+----+-----------------+\n",
            "|    1|2023|8810177.479999961|\n",
            "|    2|2023|       8008975.65|\n",
            "|    3|2023| 8874502.40000003|\n",
            "|    4|2023|8547512.790000033|\n",
            "|    5|2023|8790195.020000005|\n",
            "|    6|2023|8579047.470000008|\n",
            "|    7|2023|8796873.599999983|\n",
            "|    8|2023|8726672.809999961|\n",
            "|    9|2023|8466056.030000001|\n",
            "|   10|2023|8865992.460000044|\n",
            "|   11|2023|8583650.259999983|\n",
            "|   12|2023|8534291.940000005|\n",
            "+-----+----+-----------------+\n",
            "\n"
          ]
        }
      ],
      "source": [
        "# Query 2: Monthly Revenue Trends\n",
        "monthly_revenue_query = \"\"\"\n",
        "    SELECT month(transaction_date) AS month, year(transaction_date) AS year, SUM(amount) AS total_revenue\n",
        "    FROM transactions\n",
        "    GROUP BY year, month\n",
        "    ORDER BY year, month\n",
        "\"\"\"\n",
        "\n",
        "# Execute the query and get the DataFrame\n",
        "monthly_revenue_df = spark.sql(monthly_revenue_query)\n",
        "\n",
        "# Display the results\n",
        "monthly_revenue_df.show()"
      ]
    },
    {
      "cell_type": "code",
      "execution_count": 11,
      "metadata": {
        "colab": {
          "base_uri": "https://localhost:8080/"
        },
        "id": "KuaryjTfc50J",
        "outputId": "c66193a1-8a9f-452b-9290-b35364b3441c"
      },
      "outputs": [
        {
          "name": "stdout",
          "output_type": "stream",
          "text": [
            "+----------+------------+----------+-----------+-----------------+\n",
            "|product_id|product_name|total_sold|stock_level|    turnover_rate|\n",
            "+----------+------------+----------+-----------+-----------------+\n",
            "|      9501|product_9501|       296|          1|            296.0|\n",
            "|      7567|product_7567|       278|          1|            278.0|\n",
            "|      4373|product_4373|       268|          1|            268.0|\n",
            "|      1284|product_1284|       259|          1|            259.0|\n",
            "|      7759|product_7759|       259|          1|            259.0|\n",
            "|      2821|product_2821|       254|          1|            254.0|\n",
            "|      3135|product_3135|       235|          1|            235.0|\n",
            "|      2871|product_2871|       229|          1|            229.0|\n",
            "|      9021|product_9021|       225|          1|            225.0|\n",
            "|        40|  product_40|       212|          1|            212.0|\n",
            "|      1467|product_1467|       208|          1|            208.0|\n",
            "|      6771|product_6771|       203|          1|            203.0|\n",
            "|      8268|product_8268|       271|          2|            135.5|\n",
            "|      9503|product_9503|       262|          2|            131.0|\n",
            "|      8049|product_8049|       257|          2|            128.5|\n",
            "|      6706|product_6706|       217|          2|            108.5|\n",
            "|      2458|product_2458|       209|          2|            104.5|\n",
            "|      7245|product_7245|       300|          3|            100.0|\n",
            "|      3636|product_3636|       195|          2|             97.5|\n",
            "|      2234|product_2234|       280|          3|93.33333333333333|\n",
            "+----------+------------+----------+-----------+-----------------+\n",
            "only showing top 20 rows\n",
            "\n"
          ]
        }
      ],
      "source": [
        "# Query 3: Inventory Turnover Rates\n",
        "turnover_rate_query = \"\"\"\n",
        "    SELECT j.product_id, j.product_name, SUM(j.quantity) AS total_sold, i.stock_level,\n",
        "           (SUM(j.quantity) / i.stock_level) AS turnover_rate\n",
        "    FROM joined_data j\n",
        "    JOIN inventory i ON j.product_id = i.product_id\n",
        "    GROUP BY j.product_id, j.product_name, i.stock_level\n",
        "    HAVING i.stock_level > 0\n",
        "    ORDER BY turnover_rate DESC\n",
        "\"\"\"\n",
        "\n",
        "# Execute the query and get the DataFrame\n",
        "turnover_rate_df = spark.sql(turnover_rate_query)\n",
        "\n",
        "# Display the results\n",
        "turnover_rate_df.show()"
      ]
    },
    {
      "cell_type": "code",
      "execution_count": 12,
      "metadata": {
        "id": "eRSLMOy_rDwL"
      },
      "outputs": [],
      "source": [
        "from pyspark.sql import functions as F\n",
        "from pyspark.sql.functions import broadcast\n",
        "\n",
        "spark = SparkSession.builder \\\n",
        "    .appName(\"PerformanceOptimization\") \\\n",
        "    .getOrCreate()\n",
        "\n",
        "# Access the SparkContext from the SparkSession\n",
        "sc = spark.sparkContext\n",
        "\n"
      ]
    },
    {
      "cell_type": "code",
      "execution_count": 13,
      "metadata": {
        "colab": {
          "base_uri": "https://localhost:8080/"
        },
        "id": "bl1l3PmQh6jQ",
        "outputId": "e7b9729d-908a-4c35-8aec-c389494bca93"
      },
      "outputs": [
        {
          "name": "stdout",
          "output_type": "stream",
          "text": [
            "+----------+-----+------------+-----------+--------------+--------------------+--------+------+----------------+\n",
            "|product_id|price|product_name|stock_level|transaction_id|             user_id|quantity|amount|transaction_date|\n",
            "+----------+-----+------------+-----------+--------------+--------------------+--------+------+----------------+\n",
            "|         1|91.89|   product_1|         61|        383888|b002f929e5acc32ca...|       6|166.72|      2023-02-13|\n",
            "|         1|91.89|   product_1|         61|        365541|a6db9e5506ffb6452...|       2|281.87|      2023-05-23|\n",
            "|         1|91.89|   product_1|         61|        335728|ae585b0ca509d2aff...|       6|337.42|      2023-10-24|\n",
            "|         1|91.89|   product_1|         61|        333227|023b95023ad71f0af...|       4|450.58|      2023-07-07|\n",
            "|         1|91.89|   product_1|         61|        329257|b67e21816864c4f6a...|       3|297.87|      2023-11-15|\n",
            "+----------+-----+------------+-----------+--------------+--------------------+--------+------+----------------+\n",
            "only showing top 5 rows\n",
            "\n"
          ]
        }
      ],
      "source": [
        "from pyspark.sql.functions import broadcast\n",
        "\n",
        "# Cache DataFrames if they will be used multiple times\n",
        "transactions_df.cache()\n",
        "inventory_df.cache()\n",
        "\n",
        "# Repartition DataFrames for optimal join performance\n",
        "transactions_df_repartitioned = transactions_df.repartition(10, \"product_id\")\n",
        "inventory_df_repartitioned = inventory_df.repartition(10, \"product_id\")\n",
        "\n",
        "# Use Broadcast Join for small DataFrames (if applicable)\n",
        "# Assuming inventory_df is the smaller DataFrame\n",
        "joined_df_optimized =cleaned_inventory_df.join(broadcast(cleaned_transactions_df), on=\"product_id\" , how=\"inner\")\n",
        "# Display the optimized joined DataFrame\n",
        "joined_df_optimized.show(5)\n",
        "\n"
      ]
    },
    {
      "cell_type": "code",
      "execution_count": 14,
      "metadata": {
        "id": "oGcpqJ3ah6ur"
      },
      "outputs": [],
      "source": [
        "\n",
        "# Save DataFrame in Parquet format\n",
        "cleaned_transactions_df.write.parquet(\"/home/shorokatwa14/Documents/transactions1.parquet\", mode=\"overwrite\")\n",
        "cleaned_inventory_df.write.parquet(\"/home/shorokatwa14/Documents/inventory2.parquet\", mode=\"overwrite\")\n"
      ]
    },
    {
      "cell_type": "code",
      "execution_count": 15,
      "metadata": {
        "colab": {
          "base_uri": "https://localhost:8080/"
        },
        "id": "m9r6oa9YvooD",
        "outputId": "f0aa9571-87d5-4c92-ffe8-578d6b13a4f8"
      },
      "outputs": [
        {
          "name": "stdout",
          "output_type": "stream",
          "text": [
            "Collecting redis\n",
            "  Downloading redis-5.0.8-py3-none-any.whl.metadata (9.2 kB)\n",
            "Requirement already satisfied: async-timeout>=4.0.3 in /usr/local/lib/python3.10/dist-packages (from redis) (4.0.3)\n",
            "Downloading redis-5.0.8-py3-none-any.whl (255 kB)\n",
            "\u001b[?25l   \u001b[90m━━━━━━━━━━━━━━━━━━━━━━━━━━━━━━━━━━━━━━━━\u001b[0m \u001b[32m0.0/255.6 kB\u001b[0m \u001b[31m?\u001b[0m eta \u001b[36m-:--:--\u001b[0m\r\u001b[2K   \u001b[90m━━━━━━━━━━━━━━━━━━━━━━━━━━━━━━━━━━━━━━━━\u001b[0m \u001b[32m255.6/255.6 kB\u001b[0m \u001b[31m12.8 MB/s\u001b[0m eta \u001b[36m0:00:00\u001b[0m\n",
            "\u001b[?25hInstalling collected packages: redis\n",
            "Successfully installed redis-5.0.8\n"
          ]
        }
      ],
      "source": [
        "!pip install redis\n"
      ]
    },
    {
      "cell_type": "code",
      "execution_count": 16,
      "metadata": {
        "colab": {
          "base_uri": "https://localhost:8080/"
        },
        "id": "Kg2vjCxN58wM",
        "outputId": "9c334fb6-5998-465e-dc30-ffc875fc1b64"
      },
      "outputs": [
        {
          "name": "stdout",
          "output_type": "stream",
          "text": [
            "   product_name  total_sales\n",
            "0  product_5996     17903.02\n",
            "1  product_6875     17633.34\n",
            "2  product_8280     17439.48\n",
            "3   product_124     17189.98\n",
            "4  product_1853     17121.56\n",
            "5  product_2873     17098.04\n",
            "6  product_6824     17048.58\n",
            "7  product_5903     16991.87\n",
            "8  product_6887     16697.40\n",
            "9  product_9164     16661.15\n"
          ]
        }
      ],
      "source": [
        "# Step 3: Write the SQL query for top 10 products by total sales\n",
        "top_products_query = \"\"\"\n",
        "SELECT i.product_name, SUM(t.amount) as total_sales\n",
        "FROM transactions t\n",
        "JOIN inventory i ON t.product_id = i.product_id\n",
        "GROUP BY i.product_name\n",
        "ORDER BY total_sales DESC\n",
        "LIMIT 10\n",
        "\"\"\"\n",
        "\n",
        "# Step 4: Execute the SQL query\n",
        "top_products_df = spark.sql(top_products_query)\n",
        "\n",
        "# Step 5: Convert the resulting Spark DataFrame to a Pandas DataFrame\n",
        "top_products_pd = top_products_df.toPandas()\n",
        "\n",
        "# Optional: Preview the result\n",
        "print(top_products_pd.head(10))\n"
      ]
    },
    {
      "cell_type": "code",
      "execution_count": 17,
      "metadata": {
        "colab": {
          "base_uri": "https://localhost:8080/"
        },
        "id": "5bK8vBAm65hr",
        "outputId": "8ac99401-e67a-4ca9-8cf5-eca47759f8d1"
      },
      "outputs": [
        {
          "name": "stdout",
          "output_type": "stream",
          "text": [
            "   year  month     revenue\n",
            "0  2023      1  8810177.48\n",
            "1  2023      2  8008975.65\n",
            "2  2023      3  8874502.40\n",
            "3  2023      4  8547512.79\n",
            "4  2023      5  8790195.02\n",
            "5  2023      6  8579047.47\n",
            "6  2023      7  8796873.60\n",
            "7  2023      8  8726672.81\n",
            "8  2023      9  8466056.03\n",
            "9  2023     10  8865992.46\n"
          ]
        }
      ],
      "source": [
        "# Spark SQL query to get monthly revenue trend\n",
        "revenue_trend_query = \"\"\"\n",
        "SELECT YEAR(t.transaction_date) as year, MONTH(t.transaction_date) as month, SUM(t.amount) as revenue\n",
        "FROM transactions t\n",
        "GROUP BY YEAR(t.transaction_date), MONTH(t.transaction_date)\n",
        "ORDER BY year, month\n",
        "\"\"\"\n",
        "\n",
        "# Execute the SQL query\n",
        "revenue_trend_df = spark.sql(revenue_trend_query)\n",
        "\n",
        "# Convert to Pandas for visualization\n",
        "revenue_trend_pd = revenue_trend_df.toPandas()\n",
        "\n",
        "print(revenue_trend_pd.head(10))\n"
      ]
    },
    {
      "cell_type": "code",
      "execution_count": 17,
      "metadata": {
        "id": "4j6sJfoM_Nva"
      },
      "outputs": [],
      "source": []
    },
    {
      "cell_type": "code",
      "execution_count": 18,
      "metadata": {
        "colab": {
          "base_uri": "https://localhost:8080/"
        },
        "id": "wb9YqfTH0ZqZ",
        "outputId": "e19e2d98-d016-47e9-c2b3-93b0e7df7eba"
      },
      "outputs": [
        {
          "name": "stdout",
          "output_type": "stream",
          "text": [
            "   category product_name  turnover_rate\n",
            "0     Books    product_2       0.000571\n",
            "1     Books   product_10       0.000748\n",
            "2     Books   product_11       0.000621\n",
            "3     Books   product_25       0.000042\n",
            "4     Books   product_27       0.000099\n",
            "5     Books   product_30       0.000140\n",
            "6     Books   product_35       0.000878\n",
            "7     Books   product_46       0.000971\n",
            "8     Books   product_48       0.000819\n",
            "9     Books   product_53       0.000986\n",
            "10    Books   product_56       0.000815\n",
            "11    Books   product_58       0.000570\n",
            "12    Books   product_63       0.000923\n",
            "13    Books   product_65       0.000511\n",
            "14    Books   product_69       0.000804\n",
            "15    Books   product_70       0.000711\n",
            "16    Books   product_71       0.000695\n",
            "17    Books   product_75       0.000973\n",
            "18    Books   product_85       0.000061\n",
            "19    Books  product_101       0.000919\n",
            "20    Books  product_102       0.000134\n",
            "21    Books  product_117       0.000466\n",
            "22    Books  product_120       0.000141\n",
            "23    Books  product_129       0.000474\n",
            "24    Books  product_132       0.000882\n",
            "25    Books  product_136       0.000571\n",
            "26    Books  product_137       0.000592\n",
            "27    Books  product_139       0.000851\n",
            "28    Books  product_153       0.000134\n",
            "29    Books  product_155       0.000879\n"
          ]
        }
      ],
      "source": [
        "cleaned_inventory_df_copy.createOrReplaceTempView(\"inventory1\")\n",
        "\n",
        "\n",
        "# Spark SQL query to calculate turnover rates by product category\n",
        "inventory_turnover_query = \"\"\"\n",
        "SELECT category, product_name, stock_level / SUM(stock_level) OVER (PARTITION BY category) as turnover_rate\n",
        "FROM inventory1\n",
        "\"\"\"\n",
        "\n",
        "# Execute the SQL query\n",
        "inventory_turnover_df = spark.sql(inventory_turnover_query)\n",
        "\n",
        "# Convert to Pandas for visualization\n",
        "inventory_turnover_pd = inventory_turnover_df.toPandas()\n",
        "print(inventory_turnover_pd.head(30))\n"
      ]
    },
    {
      "cell_type": "code",
      "execution_count": 19,
      "metadata": {
        "colab": {
          "base_uri": "https://localhost:8080/"
        },
        "id": "X9PEalriNxps",
        "outputId": "7e0c57ac-bef1-4c25-b095-ac8d86c3c905"
      },
      "outputs": [
        {
          "name": "stdout",
          "output_type": "stream",
          "text": [
            "category          object\n",
            "product_name      object\n",
            "turnover_rate    float64\n",
            "dtype: object\n"
          ]
        }
      ],
      "source": [
        "# Check DataFrame for non-numeric columns\n",
        "print(inventory_turnover_pd.dtypes)\n"
      ]
    },
    {
      "cell_type": "code",
      "execution_count": 20,
      "metadata": {
        "colab": {
          "base_uri": "https://localhost:8080/"
        },
        "id": "DriVtFelTXb-",
        "outputId": "004b4c34-90b5-477a-b669-41bb0ffae65a"
      },
      "outputs": [
        {
          "name": "stdout",
          "output_type": "stream",
          "text": [
            "Data before operations:\n",
            "  category product_name  turnover_rate\n",
            "0    Books    product_2       0.000571\n",
            "1    Books   product_10       0.000748\n",
            "2    Books   product_11       0.000621\n",
            "3    Books   product_25       0.000042\n",
            "4    Books   product_27       0.000099\n",
            "Data after conversion:\n",
            "  category product_name  turnover_rate\n",
            "0    Books    product_2       0.000571\n",
            "1    Books   product_10       0.000748\n",
            "2    Books   product_11       0.000621\n",
            "3    Books   product_25       0.000042\n",
            "4    Books   product_27       0.000099\n"
          ]
        }
      ],
      "source": [
        "import pandas as pd\n",
        "# Inspect the data before any operations\n",
        "print(\"Data before operations:\")\n",
        "print(inventory_turnover_pd.head())\n",
        "\n",
        "# Convert columns to numeric and check data again\n",
        "inventory_turnover_pd['turnover_rate'] = pd.to_numeric(inventory_turnover_pd['turnover_rate'], errors='coerce')\n",
        "print(\"Data after conversion:\")\n",
        "print(inventory_turnover_pd.head())\n"
      ]
    },
    {
      "cell_type": "code",
      "execution_count": 21,
      "metadata": {
        "colab": {
          "base_uri": "https://localhost:8080/",
          "height": 997
        },
        "id": "fSs428bQ0Zns",
        "outputId": "97a841de-e4b8-4faf-df8e-e1ae44e60c5d"
      },
      "outputs": [
        {
          "data": {
            "image/png": "[encoded data removed]",
            "text/plain": [
              "<Figure size 800x500 with 1 Axes>"
            ]
          },
          "metadata": {},
          "output_type": "display_data"
        },
        {
          "data": {
            "image/png": "[encoded data removed]",
            "text/plain": [
              "<Figure size 800x500 with 1 Axes>"
            ]
          },
          "metadata": {},
          "output_type": "display_data"
        }
      ],
      "source": [
        "import matplotlib.pyplot as plt\n",
        "\n",
        "# 1. Top Products by Sales Bar Chart\n",
        "plt.figure(figsize=(8, 5))\n",
        "plt.bar(top_products_pd['product_name'], top_products_pd['total_sales'], color='skyblue')\n",
        "plt.title('Top 10 Products by Sales')\n",
        "plt.xlabel('Product Name')\n",
        "plt.ylabel('Total Sales Amount')\n",
        "plt.xticks(rotation=45)\n",
        "plt.tight_layout()\n",
        "plt.show()\n",
        "\n",
        "# 2. Revenue Trend Line Chart\n",
        "plt.figure(figsize=(8, 5))\n",
        "plt.plot(revenue_trend_pd['month'], revenue_trend_pd['revenue'], marker='o', color='green')\n",
        "plt.title('Monthly Revenue Trend Over the Past Year')\n",
        "plt.xlabel('Month')\n",
        "plt.ylabel('Revenue')\n",
        "plt.xticks(rotation=45)\n",
        "plt.tight_layout()\n",
        "plt.show()\n",
        "\n"
      ]
    },
    {
      "cell_type": "code",
      "execution_count": 23,
      "metadata": {
        "colab": {
          "base_uri": "https://localhost:8080/"
        },
        "id": "C817S4awh66D",
        "outputId": "10e1bff6-87dc-4246-88eb-9c71aff6a769"
      },
      "outputs": [
        {
          "name": "stderr",
          "output_type": "stream",
          "text": [
            "/usr/local/lib/python3.10/dist-packages/pyspark/streaming/context.py:72: FutureWarning: DStream is deprecated as of Spark 3.4.0. Migrate to Structured Streaming.\n",
            "  warnings.warn(\n"
          ]
        },
        {
          "name": "stdout",
          "output_type": "stream",
          "text": [
            "-------------------------------------------\n",
            "Time: 2024-09-10 17:36:41\n",
            "-------------------------------------------\n",
            "\n",
            "-------------------------------------------\n",
            "Time: 2024-09-10 17:36:42\n",
            "-------------------------------------------\n",
            "\n",
            "-------------------------------------------\n",
            "Time: 2024-09-10 17:36:43\n",
            "-------------------------------------------\n",
            "\n",
            "-------------------------------------------\n",
            "Time: 2024-09-10 17:36:44\n",
            "-------------------------------------------\n",
            "\n",
            "-------------------------------------------\n",
            "Time: 2024-09-10 17:36:45\n",
            "-------------------------------------------\n",
            "\n",
            "-------------------------------------------\n",
            "Time: 2024-09-10 17:36:46\n",
            "-------------------------------------------\n",
            "\n",
            "-------------------------------------------\n",
            "Time: 2024-09-10 17:36:47\n",
            "-------------------------------------------\n",
            "\n",
            "-------------------------------------------\n",
            "Time: 2024-09-10 17:36:48\n",
            "-------------------------------------------\n",
            "\n",
            "-------------------------------------------\n",
            "Time: 2024-09-10 17:36:49\n",
            "-------------------------------------------\n",
            "\n",
            "-------------------------------------------\n",
            "Time: 2024-09-10 17:36:50\n",
            "-------------------------------------------\n",
            "\n",
            "-------------------------------------------\n",
            "Time: 2024-09-10 17:36:51\n",
            "-------------------------------------------\n",
            "\n",
            "-------------------------------------------\n",
            "Time: 2024-09-10 17:36:52\n",
            "-------------------------------------------\n",
            "\n",
            "-------------------------------------------\n",
            "Time: 2024-09-10 17:36:53\n",
            "-------------------------------------------\n",
            "\n",
            "-------------------------------------------\n",
            "Time: 2024-09-10 17:36:54\n",
            "-------------------------------------------\n",
            "\n",
            "-------------------------------------------\n",
            "Time: 2024-09-10 17:36:55\n",
            "-------------------------------------------\n",
            "\n",
            "-------------------------------------------\n",
            "Time: 2024-09-10 17:36:56\n",
            "-------------------------------------------\n",
            "\n",
            "-------------------------------------------\n",
            "Time: 2024-09-10 17:36:57\n",
            "-------------------------------------------\n",
            "\n",
            "-------------------------------------------\n",
            "Time: 2024-09-10 17:36:58\n",
            "-------------------------------------------\n",
            "\n",
            "-------------------------------------------\n",
            "Time: 2024-09-10 17:36:59\n",
            "-------------------------------------------\n",
            "\n",
            "-------------------------------------------\n",
            "Time: 2024-09-10 17:37:00\n",
            "-------------------------------------------\n",
            "\n",
            "-------------------------------------------\n",
            "Time: 2024-09-10 17:37:01\n",
            "-------------------------------------------\n",
            "\n",
            "-------------------------------------------\n",
            "Time: 2024-09-10 17:37:02\n",
            "-------------------------------------------\n",
            "\n",
            "-------------------------------------------\n",
            "Time: 2024-09-10 17:37:03\n",
            "-------------------------------------------\n",
            "\n",
            "-------------------------------------------\n",
            "Time: 2024-09-10 17:37:04\n",
            "-------------------------------------------\n",
            "\n",
            "-------------------------------------------\n",
            "Time: 2024-09-10 17:37:05\n",
            "-------------------------------------------\n",
            "\n",
            "-------------------------------------------\n",
            "Time: 2024-09-10 17:37:06\n",
            "-------------------------------------------\n",
            "\n",
            "-------------------------------------------\n",
            "Time: 2024-09-10 17:37:07\n",
            "-------------------------------------------\n",
            "\n",
            "-------------------------------------------\n",
            "Time: 2024-09-10 17:37:08\n",
            "-------------------------------------------\n",
            "\n",
            "-------------------------------------------\n",
            "Time: 2024-09-10 17:37:09\n",
            "-------------------------------------------\n",
            "\n",
            "-------------------------------------------\n",
            "Time: 2024-09-10 17:37:10\n",
            "-------------------------------------------\n",
            "\n",
            "-------------------------------------------\n",
            "Time: 2024-09-10 17:37:11\n",
            "-------------------------------------------\n",
            "\n",
            "-------------------------------------------\n",
            "Time: 2024-09-10 17:37:12\n",
            "-------------------------------------------\n",
            "\n",
            "-------------------------------------------\n",
            "Time: 2024-09-10 17:37:13\n",
            "-------------------------------------------\n",
            "\n",
            "-------------------------------------------\n",
            "Time: 2024-09-10 17:37:14\n",
            "-------------------------------------------\n",
            "\n",
            "-------------------------------------------\n",
            "Time: 2024-09-10 17:37:15\n",
            "-------------------------------------------\n",
            "\n",
            "-------------------------------------------\n",
            "Time: 2024-09-10 17:37:16\n",
            "-------------------------------------------\n",
            "\n",
            "-------------------------------------------\n",
            "Time: 2024-09-10 17:37:17\n",
            "-------------------------------------------\n",
            "\n",
            "-------------------------------------------\n",
            "Time: 2024-09-10 17:37:18\n",
            "-------------------------------------------\n",
            "\n",
            "-------------------------------------------\n",
            "Time: 2024-09-10 17:37:19\n",
            "-------------------------------------------\n",
            "\n",
            "-------------------------------------------\n",
            "Time: 2024-09-10 17:37:20\n",
            "-------------------------------------------\n",
            "\n",
            "-------------------------------------------\n",
            "Time: 2024-09-10 17:37:21\n",
            "-------------------------------------------\n",
            "\n",
            "-------------------------------------------\n",
            "Time: 2024-09-10 17:37:22\n",
            "-------------------------------------------\n",
            "\n",
            "-------------------------------------------\n",
            "Time: 2024-09-10 17:37:23\n",
            "-------------------------------------------\n",
            "\n",
            "-------------------------------------------\n",
            "Time: 2024-09-10 17:37:24\n",
            "-------------------------------------------\n",
            "\n",
            "-------------------------------------------\n",
            "Time: 2024-09-10 17:37:25\n",
            "-------------------------------------------\n",
            "\n",
            "-------------------------------------------\n",
            "Time: 2024-09-10 17:37:26\n",
            "-------------------------------------------\n",
            "\n",
            "-------------------------------------------\n",
            "Time: 2024-09-10 17:37:27\n",
            "-------------------------------------------\n",
            "\n",
            "-------------------------------------------\n",
            "Time: 2024-09-10 17:37:28\n",
            "-------------------------------------------\n",
            "\n",
            "-------------------------------------------\n",
            "Time: 2024-09-10 17:37:29\n",
            "-------------------------------------------\n",
            "\n",
            "-------------------------------------------\n",
            "Time: 2024-09-10 17:37:30\n",
            "-------------------------------------------\n",
            "\n",
            "-------------------------------------------\n",
            "Time: 2024-09-10 17:37:31\n",
            "-------------------------------------------\n",
            "\n",
            "-------------------------------------------\n",
            "Time: 2024-09-10 17:37:32\n",
            "-------------------------------------------\n",
            "\n",
            "-------------------------------------------\n",
            "Time: 2024-09-10 17:37:33\n",
            "-------------------------------------------\n",
            "\n",
            "-------------------------------------------\n",
            "Time: 2024-09-10 17:37:34\n",
            "-------------------------------------------\n",
            "\n",
            "-------------------------------------------\n",
            "Time: 2024-09-10 17:37:35\n",
            "-------------------------------------------\n",
            "\n",
            "-------------------------------------------\n",
            "Time: 2024-09-10 17:37:36\n",
            "-------------------------------------------\n",
            "\n",
            "-------------------------------------------\n",
            "Time: 2024-09-10 17:37:37\n",
            "-------------------------------------------\n",
            "\n",
            "-------------------------------------------\n",
            "Time: 2024-09-10 17:37:38\n",
            "-------------------------------------------\n",
            "\n",
            "-------------------------------------------\n",
            "Time: 2024-09-10 17:37:39\n",
            "-------------------------------------------\n",
            "\n",
            "-------------------------------------------\n",
            "Time: 2024-09-10 17:37:40\n",
            "-------------------------------------------\n",
            "\n"
          ]
        }
      ],
      "source": [
        "from pyspark.sql import SparkSession\n",
        "from pyspark.streaming import StreamingContext\n",
        "\n",
        "# Initialize Spark session and Streaming context\n",
        "spark = SparkSession.builder.master(\"local[*]\").appName(\"SocketStream\").getOrCreate()\n",
        "sc = spark.sparkContext\n",
        "ssc = StreamingContext(sc, 1)  # Streaming batch interval of 1 second\n",
        "\n",
        "# Define the hostname and port number of the socket server\n",
        "hostname = \"localhost\"\n",
        "port = 9999\n",
        "\n",
        "# Create a DStream that connects to the socket\n",
        "lines = ssc.socketTextStream(hostname, port)\n",
        "\n",
        "# Process the incoming data and print each line for now\n",
        "lines.pprint()\n",
        "\n",
        "# Start streaming\n",
        "ssc.start()\n",
        "ssc.awaitTermination(60)  # Adjust the duration as needed\n",
        "\n"
      ]
    }
  ],
  "metadata": {
    "colab": {
      "provenance": []
    },
    "kernelspec": {
      "display_name": "Python 3",
      "name": "python3"
    },
    "language_info": {
      "name": "python"
    }
  },
  "nbformat": 4,
  "nbformat_minor": 0
}
