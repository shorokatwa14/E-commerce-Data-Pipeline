{
  "cells": [
    {
      "cell_type": "markdown",
      "metadata": {
        "id": "jNsZAOPVb8d5"
      },
      "source": [
        "# Real-Time E-commerce Data Pipeline with Spark ETL\n",
        "\n",
        "## Project Overview\n",
        "\n",
        "In this project, you will design and implement an ETL (Extract, Transform, Load) pipeline for a hypothetical e-commerce platform named **ShopEase**. The platform generates massive amounts of data daily, including user interactions, transactions, and inventory updates. Your task is to process this data using Apache Spark to derive meaningful insights and support real-time analytics."
      ]
    },
    {
      "cell_type": "markdown",
      "metadata": {
        "id": "IuztzT7OcDPv"
      },
      "source": [
        "## Project Requirements\n",
        "\n",
        "You are required to perform the following tasks using Apache Spark (preferably with PySpark or Scala):\n",
        "\n",
        "### 1. Data Ingestion\n",
        "- **Batch Data:**\n",
        "  - Load historical data from large CSV and JSON files stored in your local file system.\n",
        "- **Real-Time Data:**\n",
        "  - Simulate and ingest streaming data from a Kafka topic or Socket.\n",
        "\n",
        "### 2. Data Processing and Transformation\n",
        "- **Using RDDs:**\n",
        "  - Perform a transformation to filter out any corrupted or incomplete records from the transaction data.\n",
        "  - Implement a custom transformation to anonymize user IDs for privacy compliance.\n",
        "- **Using DataFrames:**\n",
        "  - Clean and standardize inventory data (e.g., handling missing values, normalizing text).\n",
        "  - Join user activity logs with transaction records to analyze user behavior leading to purchases.\n",
        "- **Using Spark SQL:**\n",
        "  - Create temporary views and execute SQL queries to compute:\n",
        "    - Top 10 most purchased products in the last month.\n",
        "    - Monthly revenue trends.\n",
        "\n",
        "### 3. Real-Time Streaming Processing (Optional but Recommended)\n",
        "- Set up a Spark Streaming job to process incoming user activity logs.\n",
        "- Compute real-time metrics such as:\n",
        "  - Active users per minute.\n",
        "  - Real-time conversion rates.\n",
        "  - Detect and alert on unusual spikes in specific user activities.\n",
        "\n",
        "### 4. Data Storage\n",
        "- Store the transformed data into appropriate storage systems:\n",
        "  - Use Parquet format for batch-processed data in a local data lake.\n",
        "  - Use an in-memory data store like Redis or a database like PostgreSQL for real-time metrics.\n",
        "\n",
        "### 5. Performance Optimization\n",
        "- Optimize Spark jobs for better performance by:\n",
        "  - Caching intermediate DataFrames where necessary.\n",
        "  - Tuning Spark configurations (e.g., partition sizes, executor memory).\n",
        "  - Using appropriate join strategies.\n",
        "\n",
        "### 6. Documentation and Reporting\n",
        "- Document the ETL pipeline architecture.\n",
        "- Provide sample dashboards or reports (using Spark's built-in visualization) showcasing the insights derived.\n"
      ]
    },
    {
      "cell_type": "markdown",
      "metadata": {
        "id": "XAwYBGMNcGO0"
      },
      "source": [
        "## Questions & Requirements\n",
        "\n",
        "### 1. Data Ingestion\n",
        "- **Q1:** How did you ingest the batch and real-time data? Provide code snippets demonstrating the loading of data using RDDs and DataFrames.\n",
        "\n",
        "### 2. Data Cleaning and Transformation\n",
        "- **Q2:** Describe the transformations applied to the transaction data using RDDs. How did you ensure data quality and privacy?\n",
        "\n",
        "### 3. DataFrame Operations\n",
        "- **Q3:** How did you clean and standardize the inventory data using DataFrames? Provide examples of handling missing values and normalizing text fields.\n",
        "\n",
        "### 4. Spark SQL Queries\n",
        "- **Q4:** Present the Spark SQL queries used to calculate the top 10 most purchased products, monthly revenue trends, and inventory turnover rates.\n",
        "\n",
        "### 5. Real-Time Processing\n",
        "- **Q5:** If implemented, explain how the real-time streaming was set up. What metrics were computed in real-time, and how were they stored/displayed?\n",
        "\n",
        "### 6. Performance Optimization\n",
        "- **Q6:** What strategies did you employ to optimize the performance of your Spark jobs? Provide examples of configuration settings or code optimizations.\n",
        "\n",
        "### 7. Reporting\n",
        "- **Q7:** Show sample outputs or dashboards that visualize the insights derived from the ETL pipeline.\n"
      ]
    },
    {
      "cell_type": "code",
      "execution_count": 1,
      "metadata": {
        "colab": {
          "base_uri": "https://localhost:8080/"
        },
        "id": "apAl8gfxbcae",
        "outputId": "2e7e35a4-5c86-4947-aacf-9d6f11addd7e"
      },
      "outputs": [
        {
          "output_type": "stream",
          "name": "stdout",
          "text": [
            "Requirement already satisfied: pyspark in /usr/local/lib/python3.10/dist-packages (3.5.2)\n",
            "Requirement already satisfied: py4j==0.10.9.7 in /usr/local/lib/python3.10/dist-packages (from pyspark) (0.10.9.7)\n"
          ]
        }
      ],
      "source": [
        "! pip install pyspark"
      ]
    },
    {
      "cell_type": "code",
      "execution_count": 2,
      "metadata": {
        "colab": {
          "base_uri": "https://localhost:8080/"
        },
        "id": "I0-SeCnUbt75",
        "outputId": "6e0ae71f-0114-4542-ccc8-3830837d1b3c"
      },
      "outputs": [
        {
          "output_type": "stream",
          "name": "stdout",
          "text": [
            "+-------+----------+------+--------------------+-----------+\n",
            "|user_id|product_id|rating|              review|review_date|\n",
            "+-------+----------+------+--------------------+-----------+\n",
            "|   9320|      1971|     4|Review text for p...| 2023-01-11|\n",
            "|  64245|      3664|     4|Review text for p...| 2023-01-23|\n",
            "|  37341|      7419|     4|Review text for p...| 2023-08-14|\n",
            "|  43430|      6536|     2|Review text for p...| 2023-12-29|\n",
            "|   6848|      3038|     1|Review text for p...| 2023-08-03|\n",
            "+-------+----------+------+--------------------+-----------+\n",
            "only showing top 5 rows\n",
            "\n",
            "+--------------+-------+----------+--------+------+-------------------+\n",
            "|transaction_id|user_id|product_id|quantity|amount|   transaction_date|\n",
            "+--------------+-------+----------+--------+------+-------------------+\n",
            "|             1|   5388|      9152|       9|305.67|2023-01-07 00:00:00|\n",
            "|             2|  31656|      5763|       1|184.31|2023-05-16 00:00:00|\n",
            "|             3|  36725|      4733|       4|  7.66|2023-01-20 00:00:00|\n",
            "|             4|  22713|      4207|       1|411.73|2023-04-19 00:00:00|\n",
            "|             5|  74067|      1914|       5|499.21|2023-08-17 00:00:00|\n",
            "+--------------+-------+----------+--------+------+-------------------+\n",
            "only showing top 5 rows\n",
            "\n",
            "+------+----------+------------+-----------+\n",
            "| price|product_id|product_name|stock_level|\n",
            "+------+----------+------------+-----------+\n",
            "| 91.89|         1|   Product_1|         61|\n",
            "|  9.75|         2|   Product_2|        553|\n",
            "|182.89|         3|   Product_3|        328|\n",
            "|148.38|         4|   Product_4|        347|\n",
            "| 78.17|         5|   Product_5|        180|\n",
            "+------+----------+------------+-----------+\n",
            "only showing top 5 rows\n",
            "\n"
          ]
        }
      ],
      "source": [
        "from pyspark.sql import SparkSession\n",
        "\n",
        "# Step 1: Create a SparkSession\n",
        "spark = SparkSession.builder \\\n",
        "    .appName(\"Batch Data Ingestion\") \\\n",
        "    .getOrCreate()\n",
        "\n",
        "# Step 2: Define paths to the CSV and JSON files\n",
        "csv_file_path1 = \"/content/large_customer_feedback.csv\"\n",
        "csv_file_path2 = \"/content/large_transactions.csv\"\n",
        "json_file_path = \"/content/large_inventory_reformatted.json\"\n",
        "\n",
        "# Step 3: Load the datasets into DataFrames\n",
        "# Loading customer feedback CSV\n",
        "feedback_df = spark.read.csv(csv_file_path1, header=True, inferSchema=True)\n",
        "\n",
        "# Loading transactions CSV\n",
        "transactions_df = spark.read.csv(csv_file_path2, header=True, inferSchema=True)\n",
        "\n",
        "# Loading inventory JSON\n",
        "inventory_df = spark.read.json(json_file_path)\n",
        "\n",
        "# Step 4: Show sample data from the DataFrames\n",
        "feedback_df.show(5)\n",
        "transactions_df.show(5)\n",
        "inventory_df.show(5)\n"
      ]
    },
    {
      "cell_type": "code",
      "execution_count": 3,
      "metadata": {
        "id": "80lqQDj8c5dn",
        "colab": {
          "base_uri": "https://localhost:8080/"
        },
        "outputId": "3457fe19-5455-4205-e6be-cee882c3e16e"
      },
      "outputs": [
        {
          "output_type": "stream",
          "name": "stdout",
          "text": [
            "+--------------+--------------------+----------+--------+------+-------------------+\n",
            "|transaction_id|             user_id|product_id|quantity|amount|   transaction_date|\n",
            "+--------------+--------------------+----------+--------+------+-------------------+\n",
            "|             1|b797d397acb6b79e3...|      9152|       9|305.67|2023-01-07 00:00:00|\n",
            "|             2|3911f43de537d6765...|      5763|       1|184.31|2023-05-16 00:00:00|\n",
            "|             3|a0127a90205f9ca56...|      4733|       4|  7.66|2023-01-20 00:00:00|\n",
            "|             4|3ec95a5c41362c498...|      4207|       1|411.73|2023-04-19 00:00:00|\n",
            "|             5|90ee0ca050e4b8892...|      1914|       5|499.21|2023-08-17 00:00:00|\n",
            "+--------------+--------------------+----------+--------+------+-------------------+\n",
            "only showing top 5 rows\n",
            "\n"
          ]
        }
      ],
      "source": [
        "import hashlib\n",
        "\n",
        "# Convert transactions DataFrame to RDD\n",
        "transactions_rdd = transactions_df.rdd\n",
        "\n",
        "# Step 3: Filter out corrupted records (e.g., missing transaction_id or amount)\n",
        "cleaned_rdd = transactions_rdd.filter(lambda row: row['transaction_id'] is not None and row['amount'] is not None)\n",
        "\n",
        "# Step 4: Write a function to anonymize user IDs using Hashing\n",
        "def anonymize(record):\n",
        "    user_id = record['user_id']\n",
        "    hashed_user_id = hashlib.sha256(str(user_id).encode()).hexdigest()  # Hash the user_id\n",
        "    return (record['transaction_id'], hashed_user_id, record['product_id'], record['quantity'], record['amount'], record['transaction_date'])\n",
        "\n",
        "# Apply anonymization\n",
        "anonymized_rdd = cleaned_rdd.map(anonymize)\n",
        "\n",
        "# Step 5: Convert back to DataFrame\n",
        "cleaned_transactions_df = anonymized_rdd.toDF([\"transaction_id\", \"user_id\", \"product_id\", \"quantity\", \"amount\", \"transaction_date\"])\n",
        "\n",
        "# Display cleaned and anonymized data\n",
        "cleaned_transactions_df.show(5)"
      ]
    },
    {
      "cell_type": "code",
      "execution_count": 4,
      "metadata": {
        "id": "iws-q7clc5i9",
        "colab": {
          "base_uri": "https://localhost:8080/"
        },
        "outputId": "3971bb75-c1cb-40ca-ae64-d8e05c342a87"
      },
      "outputs": [
        {
          "output_type": "stream",
          "name": "stdout",
          "text": [
            "+------+----------+------------+-----------+\n",
            "| price|product_id|product_name|stock_level|\n",
            "+------+----------+------------+-----------+\n",
            "| 91.89|         1|   product_1|         61|\n",
            "|  9.75|         2|   product_2|        553|\n",
            "|182.89|         3|   product_3|        328|\n",
            "|148.38|         4|   product_4|        347|\n",
            "| 78.17|         5|   product_5|        180|\n",
            "+------+----------+------------+-----------+\n",
            "only showing top 5 rows\n",
            "\n"
          ]
        }
      ],
      "source": [
        "from pyspark.sql.functions import lower\n",
        "\n",
        "# Clean the inventory data (e.g., handle missing values, normalize text)\n",
        "clean_inventory_df = inventory_df.na.fill({'stock_level': 0})  # Fill missing stock levels with 0\n",
        "\n",
        "# Normalize product names (convert to lower case)\n",
        "clean_inventory_df = clean_inventory_df.withColumn(\"product_name\", lower(inventory_df['product_name']))\n",
        "\n",
        "# Display the cleaned inventory data\n",
        "clean_inventory_df.show(5)"
      ]
    },
    {
      "cell_type": "code",
      "execution_count": 5,
      "metadata": {
        "id": "kM8Opc3xc5lw",
        "colab": {
          "base_uri": "https://localhost:8080/"
        },
        "outputId": "cfc91029-04a4-4798-93b2-82cfdabfbb74"
      },
      "outputs": [
        {
          "output_type": "stream",
          "name": "stdout",
          "text": [
            "+------+----------+------------+-----------+\n",
            "| price|product_id|product_name|stock_level|\n",
            "+------+----------+------------+-----------+\n",
            "| 91.89|         1|   product_1|         61|\n",
            "|  9.75|         2|   product_2|        553|\n",
            "|182.89|         3|   product_3|        328|\n",
            "|148.38|         4|   product_4|        347|\n",
            "| 78.17|         5|   product_5|        180|\n",
            "+------+----------+------------+-----------+\n",
            "only showing top 5 rows\n",
            "\n",
            "+----------+--------------+-------+--------+------+-------------------+-----+------------+-----------+\n",
            "|product_id|transaction_id|user_id|quantity|amount|   transaction_date|price|product_name|stock_level|\n",
            "+----------+--------------+-------+--------+------+-------------------+-----+------------+-----------+\n",
            "|      9152|             1|   5388|       9|305.67|2023-01-07 00:00:00|238.7|product_9152|        871|\n",
            "|      5763|             2|  31656|       1|184.31|2023-05-16 00:00:00|91.52|product_5763|        252|\n",
            "|      4733|             3|  36725|       4|  7.66|2023-01-20 00:00:00|33.22|product_4733|        235|\n",
            "|      4207|             4|  22713|       1|411.73|2023-04-19 00:00:00| 6.67|product_4207|        928|\n",
            "|      1914|             5|  74067|       5|499.21|2023-08-17 00:00:00|29.71|product_1914|          4|\n",
            "+----------+--------------+-------+--------+------+-------------------+-----+------------+-----------+\n",
            "only showing top 5 rows\n",
            "\n"
          ]
        }
      ],
      "source": [
        "from pyspark.sql.functions import col, lower, trim\n",
        "\n",
        "# Step 1: Clean inventory data by handling missing values and normalizing text\n",
        "cleaned_inventory_df = inventory_df.dropna(subset=[\"stock_level\"]) \\\n",
        "                                   .withColumn(\"product_name\", lower(trim(col(\"product_name\"))))\n",
        "\n",
        "# Display cleaned inventory data\n",
        "cleaned_inventory_df.show(5)\n",
        "\n",
        "\n",
        "# Step 2: Perform a join operation to combine data\n",
        "# Join on 'product_id'\n",
        "joined_df = transactions_df.join(cleaned_inventory_df, on=\"product_id\", how=\"inner\")\n",
        "\n",
        "# Display the joined DataFrame\n",
        "joined_df.show(5)"
      ]
    },
    {
      "cell_type": "code",
      "execution_count": 6,
      "metadata": {
        "id": "AoSCAJa4G9WS"
      },
      "outputs": [],
      "source": [
        "cleaned_inventory_df_copy = cleaned_inventory_df"
      ]
    },
    {
      "cell_type": "code",
      "execution_count": 7,
      "metadata": {
        "id": "JnDOKQUkc5pn",
        "colab": {
          "base_uri": "https://localhost:8080/"
        },
        "outputId": "d952069b-bf50-4024-ab0b-3a7836abfcbc"
      },
      "outputs": [
        {
          "output_type": "stream",
          "name": "stdout",
          "text": [
            "+---------+----------+\n",
            "|last_year|last_month|\n",
            "+---------+----------+\n",
            "|     2023|        12|\n",
            "+---------+----------+\n",
            "\n"
          ]
        }
      ],
      "source": [
        "transactions_df.createOrReplaceTempView(\"transactions\")\n",
        "\n",
        "# Query 1: Find the maximum transaction date\n",
        "max_date_df = spark.sql(\"\"\"\n",
        "    SELECT MAX(transaction_date) AS last_date\n",
        "    FROM transactions\n",
        "\"\"\")\n",
        "\n",
        "# Extract the maximum date\n",
        "max_date_row = max_date_df.collect()[0]\n",
        "last_date = max_date_row['last_date']\n",
        "\n",
        "# Query 2: Extract year and month from the last date\n",
        "year_month_df = spark.sql(f\"\"\"\n",
        "    SELECT YEAR('{last_date}') AS last_year, MONTH('{last_date}') AS last_month\n",
        "\"\"\")\n",
        "\n",
        "# Show the year and month of the last date\n",
        "year_month_df.show()\n"
      ]
    },
    {
      "cell_type": "code",
      "execution_count": 8,
      "metadata": {
        "id": "vbIEkRCkc5tM",
        "colab": {
          "base_uri": "https://localhost:8080/"
        },
        "outputId": "f417b6c4-0bab-42ee-b629-f89d2a424d55"
      },
      "outputs": [
        {
          "output_type": "stream",
          "name": "stdout",
          "text": [
            "+----------+--------------+\n",
            "|product_id|total_quantity|\n",
            "+----------+--------------+\n",
            "|      5920|            52|\n",
            "|      9194|            45|\n",
            "|      3391|            44|\n",
            "|      2400|            42|\n",
            "|      9050|            42|\n",
            "|      4335|            41|\n",
            "|       499|            41|\n",
            "|      9865|            41|\n",
            "|      9832|            40|\n",
            "|      9906|            40|\n",
            "+----------+--------------+\n",
            "\n"
          ]
        }
      ],
      "source": [
        "cleaned_transactions_df.createOrReplaceTempView(\"transactions\")\n",
        "cleaned_inventory_df.createOrReplaceTempView(\"inventory\")\n",
        "joined_df.createOrReplaceTempView(\"joined_data\")\n",
        "\n",
        "# Define the year and month\n",
        "last_year = 2023\n",
        "last_month = 12\n",
        "\n",
        "# Query: Top 10 most purchased products in the last month\n",
        "top_products_query = f\"\"\"\n",
        "    SELECT product_id, SUM(quantity) AS total_quantity\n",
        "    FROM transactions\n",
        "    WHERE YEAR(transaction_date) = {last_year}\n",
        "    AND MONTH(transaction_date) = {last_month}\n",
        "    GROUP BY product_id\n",
        "    ORDER BY total_quantity DESC\n",
        "    LIMIT 10\n",
        "\"\"\"\n",
        "\n",
        "# Execute the query and get the DataFrame\n",
        "top_products_df = spark.sql(top_products_query)\n",
        "\n",
        "# Display the results\n",
        "top_products_df.show()"
      ]
    },
    {
      "cell_type": "code",
      "execution_count": 9,
      "metadata": {
        "id": "WxLXU5-pc5xO",
        "colab": {
          "base_uri": "https://localhost:8080/"
        },
        "outputId": "c5f19d86-5b22-427a-f1a2-01961a233d85"
      },
      "outputs": [
        {
          "output_type": "stream",
          "name": "stdout",
          "text": [
            "+-----+----+------------------+\n",
            "|month|year|     total_revenue|\n",
            "+-----+----+------------------+\n",
            "|    1|2023|3607394.7699999874|\n",
            "|    2|2023|3230550.4700000044|\n",
            "|    3|2023| 3533736.850000009|\n",
            "|    4|2023| 3448609.110000023|\n",
            "|    5|2023| 3588380.310000009|\n",
            "|    6|2023|3451983.9899999993|\n",
            "|    7|2023| 3515465.179999996|\n",
            "|    8|2023| 3501697.469999998|\n",
            "|    9|2023| 3471929.230000008|\n",
            "|   10|2023|3636921.7600000063|\n",
            "|   11|2023| 3485816.999999999|\n",
            "|   12|2023| 3468700.359999989|\n",
            "+-----+----+------------------+\n",
            "\n"
          ]
        }
      ],
      "source": [
        "# Query 2: Monthly Revenue Trends\n",
        "monthly_revenue_query = \"\"\"\n",
        "    SELECT month(transaction_date) AS month, year(transaction_date) AS year, SUM(amount) AS total_revenue\n",
        "    FROM transactions\n",
        "    GROUP BY year, month\n",
        "    ORDER BY year, month\n",
        "\"\"\"\n",
        "\n",
        "# Execute the query and get the DataFrame\n",
        "monthly_revenue_df = spark.sql(monthly_revenue_query)\n",
        "\n",
        "# Display the results\n",
        "monthly_revenue_df.show()"
      ]
    },
    {
      "cell_type": "code",
      "execution_count": 10,
      "metadata": {
        "id": "KuaryjTfc50J",
        "colab": {
          "base_uri": "https://localhost:8080/"
        },
        "outputId": "faaa2833-99e7-4e53-9008-347c360c6f90"
      },
      "outputs": [
        {
          "output_type": "stream",
          "name": "stdout",
          "text": [
            "+----------+------------+----------+-----------+------------------+\n",
            "|product_id|product_name|total_sold|stock_level|     turnover_rate|\n",
            "+----------+------------+----------+-----------+------------------+\n",
            "|      1284|product_1284|       138|          1|             138.0|\n",
            "|      4373|product_4373|       127|          1|             127.0|\n",
            "|      2821|product_2821|       119|          1|             119.0|\n",
            "|      1467|product_1467|       112|          1|             112.0|\n",
            "|      9501|product_9501|       112|          1|             112.0|\n",
            "|      7567|product_7567|       109|          1|             109.0|\n",
            "|      9021|product_9021|        97|          1|              97.0|\n",
            "|      3135|product_3135|        96|          1|              96.0|\n",
            "|      7759|product_7759|        95|          1|              95.0|\n",
            "|      6771|product_6771|        94|          1|              94.0|\n",
            "|        40|  product_40|        82|          1|              82.0|\n",
            "|      2871|product_2871|        59|          1|              59.0|\n",
            "|      9503|product_9503|       108|          2|              54.0|\n",
            "|      6706|product_6706|        97|          2|              48.5|\n",
            "|      8268|product_8268|        94|          2|              47.0|\n",
            "|      3494|product_3494|        88|          2|              44.0|\n",
            "|      8049|product_8049|        87|          2|              43.5|\n",
            "|      3636|product_3636|        87|          2|              43.5|\n",
            "|      2234|product_2234|       130|          3|43.333333333333336|\n",
            "|      7245|product_7245|       128|          3|42.666666666666664|\n",
            "+----------+------------+----------+-----------+------------------+\n",
            "only showing top 20 rows\n",
            "\n"
          ]
        }
      ],
      "source": [
        "# Query 3: Inventory Turnover Rates\n",
        "turnover_rate_query = \"\"\"\n",
        "    SELECT j.product_id, j.product_name, SUM(j.quantity) AS total_sold, i.stock_level,\n",
        "           (SUM(j.quantity) / i.stock_level) AS turnover_rate\n",
        "    FROM joined_data j\n",
        "    JOIN inventory i ON j.product_id = i.product_id\n",
        "    GROUP BY j.product_id, j.product_name, i.stock_level\n",
        "    HAVING i.stock_level > 0\n",
        "    ORDER BY turnover_rate DESC\n",
        "\"\"\"\n",
        "\n",
        "# Execute the query and get the DataFrame\n",
        "turnover_rate_df = spark.sql(turnover_rate_query)\n",
        "\n",
        "# Display the results\n",
        "turnover_rate_df.show()"
      ]
    },
    {
      "cell_type": "code",
      "execution_count": 11,
      "metadata": {
        "id": "eRSLMOy_rDwL"
      },
      "outputs": [],
      "source": [
        "from pyspark.sql import functions as F\n",
        "from pyspark.sql.functions import broadcast\n",
        "\n",
        "spark = SparkSession.builder \\\n",
        "    .appName(\"PerformanceOptimization\") \\\n",
        "    .getOrCreate()\n",
        "\n",
        "# Access the SparkContext from the SparkSession\n",
        "sc = spark.sparkContext\n",
        "\n"
      ]
    },
    {
      "cell_type": "code",
      "execution_count": 12,
      "metadata": {
        "id": "bl1l3PmQh6jQ",
        "colab": {
          "base_uri": "https://localhost:8080/"
        },
        "outputId": "28f6b34e-0831-408f-91bc-f854d8786769"
      },
      "outputs": [
        {
          "output_type": "stream",
          "name": "stdout",
          "text": [
            "+----------+-----+------------+-----------+--------------+--------------------+--------+------+-------------------+\n",
            "|product_id|price|product_name|stock_level|transaction_id|             user_id|quantity|amount|   transaction_date|\n",
            "+----------+-----+------------+-----------+--------------+--------------------+--------+------+-------------------+\n",
            "|         1|91.89|   product_1|         61|        153601|ec378ad523da8416d...|       8|494.83|2023-12-05 00:00:00|\n",
            "|         1|91.89|   product_1|         61|        153089|e208931401347316e...|       2| 85.42|2023-01-23 00:00:00|\n",
            "|         1|91.89|   product_1|         61|        152521|c16129312b4550c09...|       4|  91.9|2023-02-26 00:00:00|\n",
            "|         1|91.89|   product_1|         61|        146014|4979be8970b53dda4...|       6| 15.11|2023-09-02 00:00:00|\n",
            "|         1|91.89|   product_1|         61|        120852|d363833efeb33e32b...|       1|  16.4|2023-08-06 00:00:00|\n",
            "+----------+-----+------------+-----------+--------------+--------------------+--------+------+-------------------+\n",
            "only showing top 5 rows\n",
            "\n"
          ]
        }
      ],
      "source": [
        "from pyspark.sql.functions import broadcast\n",
        "\n",
        "# Cache DataFrames if they will be used multiple times\n",
        "transactions_df.cache()\n",
        "inventory_df.cache()\n",
        "\n",
        "# Repartition DataFrames for optimal join performance\n",
        "transactions_df_repartitioned = transactions_df.repartition(10, \"product_id\")\n",
        "inventory_df_repartitioned = inventory_df.repartition(10, \"product_id\")\n",
        "\n",
        "# Use Broadcast Join for small DataFrames (if applicable)\n",
        "# Assuming inventory_df is the smaller DataFrame\n",
        "joined_df_optimized =cleaned_inventory_df.join(broadcast(cleaned_transactions_df), on=\"product_id\" , how=\"inner\")\n",
        "# Display the optimized joined DataFrame\n",
        "joined_df_optimized.show(5)\n",
        "\n"
      ]
    },
    {
      "cell_type": "code",
      "source": [
        "from google.colab import drive\n",
        "drive.mount('/content/drive')\n"
      ],
      "metadata": {
        "id": "hW2KRzDBdeY_",
        "colab": {
          "base_uri": "https://localhost:8080/"
        },
        "outputId": "ba1b1de6-2b5a-4e50-ce34-6ff8cb1f79aa"
      },
      "execution_count": 13,
      "outputs": [
        {
          "output_type": "stream",
          "name": "stdout",
          "text": [
            "Drive already mounted at /content/drive; to attempt to forcibly remount, call drive.mount(\"/content/drive\", force_remount=True).\n"
          ]
        }
      ]
    },
    {
      "cell_type": "code",
      "execution_count": 14,
      "metadata": {
        "id": "oGcpqJ3ah6ur"
      },
      "outputs": [],
      "source": [
        "\n",
        "# Save DataFrame in Parquet format to Google Drive\n",
        "cleaned_transactions_df.write.parquet(\"/content/drive/My Drive/transactions.parquet\", mode=\"overwrite\")\n",
        "cleaned_inventory_df.write.parquet(\"/content/drive/My Drive/inventory.parquet\", mode=\"overwrite\")\n",
        "\n"
      ]
    },
    {
      "cell_type": "code",
      "execution_count": 15,
      "metadata": {
        "id": "m9r6oa9YvooD",
        "colab": {
          "base_uri": "https://localhost:8080/"
        },
        "outputId": "0da2b222-520c-41ca-81d1-d389bd691e67"
      },
      "outputs": [
        {
          "output_type": "stream",
          "name": "stdout",
          "text": [
            "Requirement already satisfied: redis in /usr/local/lib/python3.10/dist-packages (5.0.8)\n",
            "Requirement already satisfied: async-timeout>=4.0.3 in /usr/local/lib/python3.10/dist-packages (from redis) (4.0.3)\n"
          ]
        }
      ],
      "source": [
        "!pip install redis\n"
      ]
    },
    {
      "cell_type": "code",
      "execution_count": 16,
      "metadata": {
        "id": "Kg2vjCxN58wM",
        "colab": {
          "base_uri": "https://localhost:8080/"
        },
        "outputId": "f838df04-8f98-4f5e-bbb8-1bb20981152f"
      },
      "outputs": [
        {
          "output_type": "stream",
          "name": "stdout",
          "text": [
            "   product_name  total_sales\n",
            "0  product_4631      9448.47\n",
            "1  product_2873      9239.58\n",
            "2  product_4750      9109.72\n",
            "3  product_4405      9041.55\n",
            "4  product_9275      8791.82\n",
            "5  product_2569      8762.60\n",
            "6  product_7348      8693.30\n",
            "7  product_2103      8684.75\n",
            "8  product_7915      8681.78\n",
            "9  product_4302      8581.17\n"
          ]
        }
      ],
      "source": [
        "# Step 3: Write the SQL query for top 10 products by total sales\n",
        "top_products_query = \"\"\"\n",
        "SELECT i.product_name, SUM(t.amount) as total_sales\n",
        "FROM transactions t\n",
        "JOIN inventory i ON t.product_id = i.product_id\n",
        "GROUP BY i.product_name\n",
        "ORDER BY total_sales DESC\n",
        "LIMIT 10\n",
        "\"\"\"\n",
        "\n",
        "# Step 4: Execute the SQL query\n",
        "top_products_df = spark.sql(top_products_query)\n",
        "\n",
        "# Step 5: Convert the resulting Spark DataFrame to a Pandas DataFrame\n",
        "top_products_pd = top_products_df.toPandas()\n",
        "\n",
        "# Optional: Preview the result\n",
        "print(top_products_pd.head(10))\n"
      ]
    },
    {
      "cell_type": "code",
      "execution_count": 17,
      "metadata": {
        "id": "5bK8vBAm65hr",
        "colab": {
          "base_uri": "https://localhost:8080/"
        },
        "outputId": "5797379d-c7ee-470d-e339-4720efb84d4d"
      },
      "outputs": [
        {
          "output_type": "stream",
          "name": "stdout",
          "text": [
            "   year  month     revenue\n",
            "0  2023      1  3607394.77\n",
            "1  2023      2  3230550.47\n",
            "2  2023      3  3533736.85\n",
            "3  2023      4  3448609.11\n",
            "4  2023      5  3588380.31\n",
            "5  2023      6  3451983.99\n",
            "6  2023      7  3515465.18\n",
            "7  2023      8  3501697.47\n",
            "8  2023      9  3471929.23\n",
            "9  2023     10  3636921.76\n"
          ]
        }
      ],
      "source": [
        "# Spark SQL query to get monthly revenue trend\n",
        "revenue_trend_query = \"\"\"\n",
        "SELECT YEAR(t.transaction_date) as year, MONTH(t.transaction_date) as month, SUM(t.amount) as revenue\n",
        "FROM transactions t\n",
        "GROUP BY YEAR(t.transaction_date), MONTH(t.transaction_date)\n",
        "ORDER BY year, month\n",
        "\"\"\"\n",
        "\n",
        "# Execute the SQL query\n",
        "revenue_trend_df = spark.sql(revenue_trend_query)\n",
        "\n",
        "# Convert to Pandas for visualization\n",
        "revenue_trend_pd = revenue_trend_df.toPandas()\n",
        "\n",
        "print(revenue_trend_pd.head(10))\n"
      ]
    },
    {
      "cell_type": "code",
      "execution_count": 17,
      "metadata": {
        "id": "4j6sJfoM_Nva"
      },
      "outputs": [],
      "source": []
    },
    {
      "cell_type": "code",
      "execution_count": 18,
      "metadata": {
        "id": "fSs428bQ0Zns",
        "colab": {
          "base_uri": "https://localhost:8080/",
          "height": 997
        },
        "outputId": "b10c0618-35b5-4d82-f210-14a1dc9eeda4"
      },
      "outputs": [
        {
          "output_type": "display_data",
          "data": {
            "text/plain": [
              "<Figure size 800x500 with 1 Axes>"
            ],
            "image/png": "[encoded data removed]"
          },
          "metadata": {}
        },
        {
          "output_type": "display_data",
          "data": {
            "text/plain": [
              "<Figure size 800x500 with 1 Axes>"
            ],
            "image/png": "[encoded data removed]"
          },
          "metadata": {}
        }
      ],
      "source": [
        "import matplotlib.pyplot as plt\n",
        "\n",
        "# 1. Top Products by Sales Bar Chart\n",
        "plt.figure(figsize=(8, 5))\n",
        "plt.bar(top_products_pd['product_name'], top_products_pd['total_sales'], color='skyblue')\n",
        "plt.title('Top 10 Products by Sales')\n",
        "plt.xlabel('Product Name')\n",
        "plt.ylabel('Total Sales Amount')\n",
        "plt.xticks(rotation=45)\n",
        "plt.tight_layout()\n",
        "plt.show()\n",
        "\n",
        "# 2. Revenue Trend Line Chart\n",
        "plt.figure(figsize=(8, 5))\n",
        "plt.plot(revenue_trend_pd['month'], revenue_trend_pd['revenue'], marker='o', color='green')\n",
        "plt.title('Monthly Revenue Trend Over the Past Year')\n",
        "plt.xlabel('Month')\n",
        "plt.ylabel('Revenue')\n",
        "plt.xticks(rotation=45)\n",
        "plt.tight_layout()\n",
        "plt.show()\n",
        "\n"
      ]
    },
    {
      "cell_type": "code",
      "source": [
        "from pyspark.sql import SparkSession\n",
        "from pyspark.streaming import StreamingContext\n",
        "\n",
        "# Initialize Spark session and Streaming context\n",
        "spark = SparkSession.builder.master(\"local[*]\").appName(\"SocketStream\").getOrCreate()\n",
        "sc = spark.sparkContext\n",
        "ssc = StreamingContext(sc, 1)  # Streaming batch interval of 1 second\n",
        "\n",
        "# Define the hostname and port number of the socket server\n",
        "hostname = \"localhost\"\n",
        "port = 9999\n",
        "\n",
        "# Create a DStream that connects to the socket\n",
        "lines = ssc.socketTextStream(hostname, port)\n",
        "\n",
        "# Process the incoming data and print each line for now\n",
        "lines.pprint()\n",
        "\n",
        "# Start streaming\n",
        "ssc.start()\n",
        "ssc.awaitTermination(60)  # Adjust the duration as needed\n",
        "\n"
      ],
      "metadata": {
        "colab": {
          "base_uri": "https://localhost:8080/"
        },
        "id": "itAlqPi5iDqr",
        "outputId": "2352549f-eb8a-4c08-b0fd-a93847987c59"
      },
      "execution_count": 19,
      "outputs": [
        {
          "output_type": "stream",
          "name": "stderr",
          "text": [
            "/usr/local/lib/python3.10/dist-packages/pyspark/streaming/context.py:72: FutureWarning: DStream is deprecated as of Spark 3.4.0. Migrate to Structured Streaming.\n",
            "  warnings.warn(\n"
          ]
        },
        {
          "output_type": "stream",
          "name": "stdout",
          "text": [
            "-------------------------------------------\n",
            "Time: 2024-09-12 19:17:47\n",
            "-------------------------------------------\n",
            "\n",
            "-------------------------------------------\n",
            "Time: 2024-09-12 19:17:48\n",
            "-------------------------------------------\n",
            "\n",
            "-------------------------------------------\n",
            "Time: 2024-09-12 19:17:49\n",
            "-------------------------------------------\n",
            "\n",
            "-------------------------------------------\n",
            "Time: 2024-09-12 19:17:50\n",
            "-------------------------------------------\n",
            "\n",
            "-------------------------------------------\n",
            "Time: 2024-09-12 19:17:51\n",
            "-------------------------------------------\n",
            "\n",
            "-------------------------------------------\n",
            "Time: 2024-09-12 19:17:52\n",
            "-------------------------------------------\n",
            "\n",
            "-------------------------------------------\n",
            "Time: 2024-09-12 19:17:53\n",
            "-------------------------------------------\n",
            "\n",
            "-------------------------------------------\n",
            "Time: 2024-09-12 19:17:54\n",
            "-------------------------------------------\n",
            "\n",
            "-------------------------------------------\n",
            "Time: 2024-09-12 19:17:55\n",
            "-------------------------------------------\n",
            "\n",
            "-------------------------------------------\n",
            "Time: 2024-09-12 19:17:56\n",
            "-------------------------------------------\n",
            "\n",
            "-------------------------------------------\n",
            "Time: 2024-09-12 19:17:57\n",
            "-------------------------------------------\n",
            "\n",
            "-------------------------------------------\n",
            "Time: 2024-09-12 19:17:58\n",
            "-------------------------------------------\n",
            "\n",
            "-------------------------------------------\n",
            "Time: 2024-09-12 19:17:59\n",
            "-------------------------------------------\n",
            "\n",
            "-------------------------------------------\n",
            "Time: 2024-09-12 19:18:00\n",
            "-------------------------------------------\n",
            "\n",
            "-------------------------------------------\n",
            "Time: 2024-09-12 19:18:01\n",
            "-------------------------------------------\n",
            "\n",
            "-------------------------------------------\n",
            "Time: 2024-09-12 19:18:02\n",
            "-------------------------------------------\n",
            "\n",
            "-------------------------------------------\n",
            "Time: 2024-09-12 19:18:03\n",
            "-------------------------------------------\n",
            "\n",
            "-------------------------------------------\n",
            "Time: 2024-09-12 19:18:04\n",
            "-------------------------------------------\n",
            "\n",
            "-------------------------------------------\n",
            "Time: 2024-09-12 19:18:05\n",
            "-------------------------------------------\n",
            "\n",
            "-------------------------------------------\n",
            "Time: 2024-09-12 19:18:06\n",
            "-------------------------------------------\n",
            "\n",
            "-------------------------------------------\n",
            "Time: 2024-09-12 19:18:07\n",
            "-------------------------------------------\n",
            "\n",
            "-------------------------------------------\n",
            "Time: 2024-09-12 19:18:08\n",
            "-------------------------------------------\n",
            "\n",
            "-------------------------------------------\n",
            "Time: 2024-09-12 19:18:09\n",
            "-------------------------------------------\n",
            "\n",
            "-------------------------------------------\n",
            "Time: 2024-09-12 19:18:10\n",
            "-------------------------------------------\n",
            "\n",
            "-------------------------------------------\n",
            "Time: 2024-09-12 19:18:11\n",
            "-------------------------------------------\n",
            "\n",
            "-------------------------------------------\n",
            "Time: 2024-09-12 19:18:12\n",
            "-------------------------------------------\n",
            "\n",
            "-------------------------------------------\n",
            "Time: 2024-09-12 19:18:13\n",
            "-------------------------------------------\n",
            "\n",
            "-------------------------------------------\n",
            "Time: 2024-09-12 19:18:14\n",
            "-------------------------------------------\n",
            "\n",
            "-------------------------------------------\n",
            "Time: 2024-09-12 19:18:15\n",
            "-------------------------------------------\n",
            "\n",
            "-------------------------------------------\n",
            "Time: 2024-09-12 19:18:16\n",
            "-------------------------------------------\n",
            "\n",
            "-------------------------------------------\n",
            "Time: 2024-09-12 19:18:17\n",
            "-------------------------------------------\n",
            "\n",
            "-------------------------------------------\n",
            "Time: 2024-09-12 19:18:18\n",
            "-------------------------------------------\n",
            "\n",
            "-------------------------------------------\n",
            "Time: 2024-09-12 19:18:19\n",
            "-------------------------------------------\n",
            "\n",
            "-------------------------------------------\n",
            "Time: 2024-09-12 19:18:20\n",
            "-------------------------------------------\n",
            "\n",
            "-------------------------------------------\n",
            "Time: 2024-09-12 19:18:21\n",
            "-------------------------------------------\n",
            "\n",
            "-------------------------------------------\n",
            "Time: 2024-09-12 19:18:22\n",
            "-------------------------------------------\n",
            "\n",
            "-------------------------------------------\n",
            "Time: 2024-09-12 19:18:23\n",
            "-------------------------------------------\n",
            "\n",
            "-------------------------------------------\n",
            "Time: 2024-09-12 19:18:24\n",
            "-------------------------------------------\n",
            "\n",
            "-------------------------------------------\n",
            "Time: 2024-09-12 19:18:25\n",
            "-------------------------------------------\n",
            "\n",
            "-------------------------------------------\n",
            "Time: 2024-09-12 19:18:26\n",
            "-------------------------------------------\n",
            "\n",
            "-------------------------------------------\n",
            "Time: 2024-09-12 19:18:27\n",
            "-------------------------------------------\n",
            "\n",
            "-------------------------------------------\n",
            "Time: 2024-09-12 19:18:28\n",
            "-------------------------------------------\n",
            "\n",
            "-------------------------------------------\n",
            "Time: 2024-09-12 19:18:29\n",
            "-------------------------------------------\n",
            "\n",
            "-------------------------------------------\n",
            "Time: 2024-09-12 19:18:30\n",
            "-------------------------------------------\n",
            "\n",
            "-------------------------------------------\n",
            "Time: 2024-09-12 19:18:31\n",
            "-------------------------------------------\n",
            "\n",
            "-------------------------------------------\n",
            "Time: 2024-09-12 19:18:32\n",
            "-------------------------------------------\n",
            "\n",
            "-------------------------------------------\n",
            "Time: 2024-09-12 19:18:33\n",
            "-------------------------------------------\n",
            "\n",
            "-------------------------------------------\n",
            "Time: 2024-09-12 19:18:34\n",
            "-------------------------------------------\n",
            "\n",
            "-------------------------------------------\n",
            "Time: 2024-09-12 19:18:35\n",
            "-------------------------------------------\n",
            "\n",
            "-------------------------------------------\n",
            "Time: 2024-09-12 19:18:36\n",
            "-------------------------------------------\n",
            "\n",
            "-------------------------------------------\n",
            "Time: 2024-09-12 19:18:37\n",
            "-------------------------------------------\n",
            "\n",
            "-------------------------------------------\n",
            "Time: 2024-09-12 19:18:38\n",
            "-------------------------------------------\n",
            "\n",
            "-------------------------------------------\n",
            "Time: 2024-09-12 19:18:39\n",
            "-------------------------------------------\n",
            "\n",
            "-------------------------------------------\n",
            "Time: 2024-09-12 19:18:40\n",
            "-------------------------------------------\n",
            "\n",
            "-------------------------------------------\n",
            "Time: 2024-09-12 19:18:41\n",
            "-------------------------------------------\n",
            "\n",
            "-------------------------------------------\n",
            "Time: 2024-09-12 19:18:42\n",
            "-------------------------------------------\n",
            "\n",
            "-------------------------------------------\n",
            "Time: 2024-09-12 19:18:43\n",
            "-------------------------------------------\n",
            "\n",
            "-------------------------------------------\n",
            "Time: 2024-09-12 19:18:44\n",
            "-------------------------------------------\n",
            "\n",
            "-------------------------------------------\n",
            "Time: 2024-09-12 19:18:45\n",
            "-------------------------------------------\n",
            "\n",
            "-------------------------------------------\n",
            "Time: 2024-09-12 19:18:46\n",
            "-------------------------------------------\n",
            "\n",
            "-------------------------------------------\n",
            "Time: 2024-09-12 19:18:47\n",
            "-------------------------------------------\n",
            "\n"
          ]
        }
      ]
    }
  ],
  "metadata": {
    "colab": {
      "provenance": []
    },
    "kernelspec": {
      "display_name": "Python 3",
      "name": "python3"
    },
    "language_info": {
      "name": "python"
    }
  },
  "nbformat": 4,
  "nbformat_minor": 0
}